{
 "cells": [
  {
   "metadata": {
    "ExecuteTime": {
     "end_time": "2024-09-14T17:57:37.797907Z",
     "start_time": "2024-09-14T17:57:26.041387Z"
    }
   },
   "cell_type": "code",
   "source": "import pandas as pd",
   "id": "6d375bb1c22aa828",
   "execution_count": 1,
   "outputs": []
  },
  {
   "metadata": {
    "ExecuteTime": {
     "end_time": "2024-09-14T17:58:03.734184Z",
     "start_time": "2024-09-14T17:58:03.706051Z"
    }
   },
   "cell_type": "code",
   "source": [
    "titanic_csv = pd.read_csv('files/train.csv')\n",
    "titanic_csv.head()"
   ],
   "id": "b978047ac5459e15",
   "execution_count": 3,
   "outputs": []
  },
  {
   "metadata": {
    "ExecuteTime": {
     "end_time": "2024-09-13T22:04:56.628305Z",
     "start_time": "2024-09-13T22:04:56.625687Z"
    }
   },
   "cell_type": "code",
   "source": "titanic_csv.shape",
   "id": "cfd02f2bdbeb0a09",
   "execution_count": 190,
   "outputs": []
  },
  {
   "metadata": {
    "ExecuteTime": {
     "end_time": "2024-09-13T22:04:56.632366Z",
     "start_time": "2024-09-13T22:04:56.629188Z"
    }
   },
   "cell_type": "code",
   "source": [
    "column: str = titanic_csv.columns[0] # Retorna cabecera de la columna\n",
    "titanic_csv[column]"
   ],
   "id": "829abe9cd21b0e75",
   "execution_count": 191,
   "outputs": []
  },
  {
   "metadata": {},
   "cell_type": "markdown",
   "source": [
    "# Columns to omit:\n",
    "- Name : Column 4\n",
    "- PassengerId : column 1\n",
    "- Fare : column 10\n",
    "- Embarked : column 12\n",
    "- Ticket : column 9"
   ],
   "id": "c082605e8a27fd3f"
  },
  {
   "metadata": {
    "ExecuteTime": {
     "end_time": "2024-09-13T22:04:56.637353Z",
     "start_time": "2024-09-13T22:04:56.633485Z"
    }
   },
   "cell_type": "code",
   "source": [
    "# Traspaso a un nuevo pandas.Dataframe omitiendo las columnas indicadas\n",
    "titanic_df = titanic_csv.drop(columns=['Name', 'PassengerId', 'Fare', 'Embarked', 'Ticket'])"
   ],
   "id": "abdce59b31dd3ac9",
   "execution_count": 192,
   "outputs": []
  },
  {
   "metadata": {
    "ExecuteTime": {
     "end_time": "2024-09-13T22:04:56.642119Z",
     "start_time": "2024-09-13T22:04:56.638002Z"
    }
   },
   "cell_type": "code",
   "source": [
    "column_name = titanic_df.columns[6]\n",
    "titanic_df.head()"
   ],
   "id": "699dcb1a8b8f09f8",
   "execution_count": 193,
   "outputs": []
  },
  {
   "metadata": {
    "ExecuteTime": {
     "end_time": "2024-09-13T22:04:56.655865Z",
     "start_time": "2024-09-13T22:04:56.649865Z"
    }
   },
   "cell_type": "code",
   "source": [
    "# Dataframe.nunique(dropna=False) retorna conteo valores unicos incluyendo valores nan\n",
    "\n",
    "# Columna Survived no tiene valores nan\n",
    "titanic_df['Survived'] = titanic_df['Survived'].astype(float)\n",
    "\n",
    "# Columna Pclass no tiene valores nan\n",
    "titanic_df['Pclass'] = titanic_df['Pclass'].astype(float)\n",
    "\n",
    "# Columna Sex no tiene valores nan\n",
    "# Se pasan los valores male and female a numericos\n",
    "titanic_df['Sex'] = titanic_df['Sex'].apply(lambda value: 1 if value == 'male' else 0)\n",
    "titanic_df['Sex'] = titanic_df['Sex'].astype(float)\n",
    "\n",
    "# Columna Age tiene valores nan\n",
    "# Se rellena con valores 0 los nan\n",
    "titanic_df['Age'] = titanic_df['Age'].fillna(0)\n",
    "titanic_df['Age'] = titanic_df['Age'].astype(float)\n",
    "\n",
    "# Columna SibSp no tiene valores nan\n",
    "titanic_df['SibSp'] = titanic_df['SibSp'].astype(float)\n",
    "\n",
    "# Columna Parch no tiene valores nan\n",
    "titanic_df['Parch'] = titanic_df['Parch'].astype(float)\n",
    "\n",
    "# Cabin tiene valores nan y se reemplazan por valores 0\n",
    "titanic_df['Cabin'], unique = titanic_df['Cabin'].factorize(use_na_sentinel=True)\n",
    "titanic_df['Cabin'] = titanic_df['Cabin'].replace(-1, 150)\n",
    "titanic_df['Cabin'] = titanic_df['Cabin'].astype(float)"
   ],
   "id": "2914ef8e757ae1bc",
   "execution_count": 194,
   "outputs": []
  },
  {
   "metadata": {
    "ExecuteTime": {
     "end_time": "2024-09-13T22:04:56.666161Z",
     "start_time": "2024-09-13T22:04:56.662216Z"
    }
   },
   "cell_type": "code",
   "source": "titanic_df['Cabin'].unique()",
   "id": "4dc7af2d293e7963",
   "execution_count": 195,
   "outputs": []
  },
  {
   "metadata": {
    "ExecuteTime": {
     "end_time": "2024-09-13T22:04:56.677848Z",
     "start_time": "2024-09-13T22:04:56.671248Z"
    }
   },
   "cell_type": "code",
   "source": [
    "from sklearn.model_selection import train_test_split\n",
    "\n",
    "# Separa valores en test y train\n",
    "x_df = titanic_df.drop(columns=['Survived'])\n",
    "y_df = titanic_df['Survived']\n",
    "\n",
    "X_train, X_test, y_train, y_test = train_test_split(x_df, y_df, test_size=0.2, random_state=42)\n"
   ],
   "id": "37cb1df2b442fd56",
   "execution_count": 196,
   "outputs": []
  },
  {
   "metadata": {
    "ExecuteTime": {
     "end_time": "2024-09-13T22:04:56.683768Z",
     "start_time": "2024-09-13T22:04:56.679096Z"
    }
   },
   "cell_type": "code",
   "source": [
    "# Escalar valores entre\n",
    "from sklearn.preprocessing import StandardScaler\n",
    "\n",
    "sc = StandardScaler()\n",
    "X_train = sc.fit_transform(X_train)\n",
    "X_test = sc.transform(X_test)"
   ],
   "id": "8f8e90a01302532",
   "execution_count": 197,
   "outputs": []
  },
  {
   "metadata": {
    "ExecuteTime": {
     "end_time": "2024-09-13T22:04:56.695590Z",
     "start_time": "2024-09-13T22:04:56.690343Z"
    }
   },
   "cell_type": "code",
   "source": [
    "import torch\n",
    "from torch.utils.data import TensorDataset, DataLoader\n",
    "\n",
    "# Creación de tensors\n",
    "\n",
    "X_train_tensor = torch.tensor(data=X_train, dtype=torch.float32)\n",
    "X_test_tensor = torch.tensor(data=X_test, dtype=torch.float32)\n",
    "y_train_tensor = torch.tensor(y_train.values, dtype=torch.float32).view(-1, 1)\n",
    "y_test_tensor = torch.tensor(y_test.values, dtype=torch.float32).view(-1, 1)\n",
    "\n",
    "train_dataset_tensor = TensorDataset(X_train_tensor, y_train_tensor)\n",
    "test_dataset_tensor = TensorDataset(X_test_tensor, y_test_tensor)\n",
    "\n",
    "# Creacion de DataLoader\n",
    "batch_size = 32\n",
    "train_loader = DataLoader(dataset=train_dataset_tensor, batch_size=batch_size)\n",
    "test_loader = DataLoader(dataset=test_dataset_tensor, batch_size=batch_size)"
   ],
   "id": "eabf5c9e60c2819a",
   "execution_count": 198,
   "outputs": []
  },
  {
   "metadata": {
    "ExecuteTime": {
     "end_time": "2024-09-13T23:19:43.837372Z",
     "start_time": "2024-09-13T23:19:43.831465Z"
    }
   },
   "cell_type": "code",
   "source": [
    "import torch.nn as nn\n",
    "\n",
    "# Creación del modelo\n",
    "class TitanicModel(nn.Module):\n",
    "    def __init__(self, input_size):\n",
    "        super(TitanicModel, self).__init__()\n",
    "        self.fc1 = nn.Linear(in_features=input_size, out_features=64)\n",
    "        self.fc2 = nn.Linear(in_features=64, out_features=64)\n",
    "        self.fc3 = nn.Linear(in_features=64, out_features=1)\n",
    "        self.relu = nn.ReLU()\n",
    "        self.sigmoid = nn.Sigmoid()\n",
    "\n",
    "    def forward(self, x):\n",
    "        x = self.relu(self.fc1(x))\n",
    "        x = self.relu( self.fc2(x))\n",
    "        x = self.fc3(x)\n",
    "        x = self.sigmoid(x)\n",
    "        return x\n",
    "\n",
    "\n"
   ],
   "id": "18cc7b2d66bbd73f",
   "execution_count": 267,
   "outputs": []
  },
  {
   "metadata": {
    "ExecuteTime": {
     "end_time": "2024-09-13T23:19:44.287103Z",
     "start_time": "2024-09-13T23:19:44.282889Z"
    }
   },
   "cell_type": "code",
   "source": [
    "from torch import optim\n",
    "\n",
    "input_size: int = X_train_tensor.shape[1]\n",
    "titanic_model = TitanicModel(input_size=input_size)\n",
    "criterion = nn.BCELoss()\n",
    "optimizer = optim.Adam(titanic_model.parameters(), lr=0.001)\n"
   ],
   "id": "f8f2ae84c16c632d",
   "execution_count": 268,
   "outputs": []
  },
  {
   "metadata": {
    "ExecuteTime": {
     "end_time": "2024-09-13T23:19:44.600113Z",
     "start_time": "2024-09-13T23:19:44.595286Z"
    }
   },
   "cell_type": "code",
   "source": [
    "def train(model, train_loader, optimizer, criterion, epochs):\n",
    "\n",
    "    loss_list_train = []\n",
    "    iteration_list_train = []\n",
    "\n",
    "    for epoch in range(epochs):\n",
    "        model.train()\n",
    "        epoch_loss_train = 0.0\n",
    "\n",
    "        for index, (batch_x, batch_y) in enumerate(train_loader):\n",
    "            optimizer.zero_grad()\n",
    "\n",
    "            outputs = model(batch_x)\n",
    "            loss = criterion(outputs, batch_y)\n",
    "\n",
    "            loss.backward()\n",
    "            optimizer.step()\n",
    "\n",
    "            epoch_loss_train += loss.item()\n",
    "\n",
    "        loss_mean = epoch_loss_train / len(train_loader)\n",
    "        loss_list_train.append(loss_mean)\n",
    "        iteration_list_train.append(epoch + 1)\n",
    "\n",
    "    return loss_list_train, iteration_list_train\n"
   ],
   "id": "220a5e12d0ccebb4",
   "execution_count": 269,
   "outputs": []
  },
  {
   "metadata": {
    "ExecuteTime": {
     "end_time": "2024-09-13T23:19:45.158377Z",
     "start_time": "2024-09-13T23:19:45.154170Z"
    }
   },
   "cell_type": "code",
   "source": [
    "def test(model, test_loader, criterion):\n",
    "    model.eval()\n",
    "    epoch_loss_test = 0.0\n",
    "    loss_list_test = []\n",
    "    iteration_list_test = []\n",
    "\n",
    "    with torch.no_grad():\n",
    "        for index, (batch_x, batch_y) in enumerate(test_loader):\n",
    "            outputs = model(batch_x)\n",
    "            loss = criterion(outputs, batch_y)\n",
    "            epoch_loss_test += loss.item()\n",
    "\n",
    "            print(f'Epoch {index + 1}/{len(test_loader)} Loss: {loss.item():.4f}')\n",
    "\n",
    "            loss_list_test.append(loss.item())\n",
    "            iteration_list_test.append(index + 1)\n",
    "\n",
    "\n",
    "    loss_test_mean = epoch_loss_test / len(test_loader)\n",
    "    return iteration_list_test, loss_list_test, loss_test_mean"
   ],
   "id": "7521a6efd539cbd6",
   "execution_count": 270,
   "outputs": []
  },
  {
   "metadata": {
    "ExecuteTime": {
     "end_time": "2024-09-13T23:19:57.718378Z",
     "start_time": "2024-09-13T23:19:45.755822Z"
    }
   },
   "cell_type": "code",
   "source": [
    "epochs: int = 1000\n",
    "loss_list_train, iteration_list_train = train(model=titanic_model, train_loader=train_loader, optimizer=optimizer, criterion=criterion, epochs=epochs)"
   ],
   "id": "4830f277e22126da",
   "execution_count": 271,
   "outputs": []
  },
  {
   "metadata": {
    "ExecuteTime": {
     "end_time": "2024-09-13T23:19:57.792459Z",
     "start_time": "2024-09-13T23:19:57.719742Z"
    }
   },
   "cell_type": "code",
   "source": [
    "import matplotlib.pyplot as plt\n",
    "\n",
    "plt.plot(iteration_list_train, loss_list_train)\n",
    "plt.xlabel('Iteration')\n",
    "plt.ylabel('Loss')\n",
    "plt.title('Loss Curve TRAIN')\n",
    "plt.show()"
   ],
   "id": "c3344178cd235a0d",
   "execution_count": 272,
   "outputs": []
  },
  {
   "metadata": {
    "ExecuteTime": {
     "end_time": "2024-09-13T23:20:11.375220Z",
     "start_time": "2024-09-13T23:20:11.369813Z"
    }
   },
   "cell_type": "code",
   "source": "iteration_list_test, loss_list_test, loss_test_mean = test(model=titanic_model, test_loader=test_loader, criterion=criterion)",
   "id": "92db2e88e303fc89",
   "execution_count": 273,
   "outputs": []
  },
  {
   "metadata": {
    "ExecuteTime": {
     "end_time": "2024-09-13T23:20:13.305896Z",
     "start_time": "2024-09-13T23:20:13.237257Z"
    }
   },
   "cell_type": "code",
   "source": [
    "plt.plot(iteration_list_test, loss_list_test)\n",
    "plt.xlabel('Iteration')\n",
    "plt.ylabel('Loss')\n",
    "plt.title('Loss Curve TEST')\n",
    "plt.show()"
   ],
   "id": "3507e76db9408f37",
   "execution_count": 274,
   "outputs": []
  },
  {
   "metadata": {
    "ExecuteTime": {
     "end_time": "2024-09-13T22:31:34.413345Z",
     "start_time": "2024-09-13T22:31:34.403327Z"
    }
   },
   "cell_type": "code",
   "source": [
    "# Testing for kaggle competition\n",
    "test_csv = pd.read_csv('files/test.csv')\n",
    "test_csv.head()"
   ],
   "id": "c35d08608cbe1643",
   "execution_count": 229,
   "outputs": []
  },
  {
   "metadata": {
    "ExecuteTime": {
     "end_time": "2024-09-13T22:32:15.151164Z",
     "start_time": "2024-09-13T22:32:15.133799Z"
    }
   },
   "cell_type": "code",
   "source": [
    "test_df = test_csv.drop(columns=['Name', 'PassengerId', 'Fare', 'Embarked', 'Ticket'])\n",
    "\n",
    "test_df['Pclass'] = test_df['Pclass'].astype(float)\n",
    "\n",
    "test_df['Sex'] = test_df['Sex'].apply(lambda value: 1 if value == 'male' else 0)\n",
    "test_df['Sex'] = test_df['Sex'].astype(float)\n",
    "\n",
    "test_df['Age'] = test_df['Age'].fillna(0)\n",
    "test_df['Age'] = test_df['Age'].astype(float)\n",
    "\n",
    "test_df['SibSp'] = test_df['SibSp'].astype(float)\n",
    "\n",
    "test_df['Parch'] = test_df['Parch'].astype(float)\n",
    "\n",
    "test_df['Cabin'], unique = test_df['Cabin'].factorize(use_na_sentinel=True)\n",
    "test_df['Cabin'] = test_df['Cabin'].replace(-1, 150)\n",
    "test_df['Cabin'] = test_df['Cabin'].astype(float)"
   ],
   "id": "67a0da1e33f07123",
   "execution_count": 230,
   "outputs": []
  },
  {
   "metadata": {},
   "cell_type": "code",
   "execution_count": null,
   "source": [
    "# Columna Survived no tiene valores nan\n",
    "\n",
    "\n",
    "# Columna Pclass no tiene valores nan\n",
    "\n",
    "\n",
    "# Columna Sex no tiene valores nan\n",
    "# Se pasan los valores male and female a numericos\n",
    "\n",
    "\n",
    "# Columna Age tiene valores nan\n",
    "# Se rellena con valores 0 los nan\n",
    "\n",
    "\n",
    "# Columna SibSp no tiene valores nan\n",
    "\n",
    "\n",
    "# Columna Parch no tiene valores nan\n",
    "\n",
    "\n",
    "# Cabin tiene valores nan y se reemplazan por valores 0\n"
   ],
   "id": "cca8e96f3d47aa37",
   "outputs": []
  },
  {
   "metadata": {
    "ExecuteTime": {
     "end_time": "2024-09-13T22:32:17.401704Z",
     "start_time": "2024-09-13T22:32:17.389740Z"
    }
   },
   "cell_type": "code",
   "source": "test_df",
   "id": "8f3ae60cd7f1fc3c",
   "execution_count": 231,
   "outputs": []
  },
  {
   "metadata": {
    "ExecuteTime": {
     "end_time": "2024-09-13T22:32:59.980443Z",
     "start_time": "2024-09-13T22:32:59.961730Z"
    }
   },
   "cell_type": "code",
   "source": "test_df = sc.transform(test_df)",
   "id": "db878b82b7d06a",
   "execution_count": 232,
   "outputs": []
  },
  {
   "metadata": {
    "ExecuteTime": {
     "end_time": "2024-09-13T22:33:03.495537Z",
     "start_time": "2024-09-13T22:33:03.492660Z"
    }
   },
   "cell_type": "code",
   "source": "test_df",
   "id": "4cfe967847164299",
   "execution_count": 233,
   "outputs": []
  },
  {
   "metadata": {
    "ExecuteTime": {
     "end_time": "2024-09-13T22:39:22.224823Z",
     "start_time": "2024-09-13T22:39:22.222389Z"
    }
   },
   "cell_type": "code",
   "source": "test_df_tensor = torch.tensor(data=test_df, dtype=torch.float32)",
   "id": "40cffb2dd84cde0f",
   "execution_count": 241,
   "outputs": []
  },
  {
   "metadata": {
    "ExecuteTime": {
     "end_time": "2024-09-13T23:20:47.523262Z",
     "start_time": "2024-09-13T23:20:47.486533Z"
    }
   },
   "cell_type": "code",
   "source": [
    "titanic_model.eval()\n",
    "with torch.no_grad():\n",
    "    predictions = titanic_model(test_df_tensor)"
   ],
   "id": "1d3b67502efa3cf3",
   "execution_count": 275,
   "outputs": []
  },
  {
   "metadata": {
    "ExecuteTime": {
     "end_time": "2024-09-13T23:20:47.877298Z",
     "start_time": "2024-09-13T23:20:47.867340Z"
    }
   },
   "cell_type": "code",
   "source": [
    "predictions = (predictions > 0.5).int()\n",
    "predictions"
   ],
   "id": "2391e6611ffdd5e7",
   "execution_count": 276,
   "outputs": []
  },
  {
   "metadata": {
    "ExecuteTime": {
     "end_time": "2024-09-13T23:20:51.550363Z",
     "start_time": "2024-09-13T23:20:51.547101Z"
    }
   },
   "cell_type": "code",
   "source": [
    "result = pd.DataFrame({\n",
    "    'PassengerId': test_csv['PassengerId'],\n",
    "    'Survived': predictions.numpy().flatten()\n",
    "})"
   ],
   "id": "ee12702be3a774fc",
   "execution_count": 277,
   "outputs": []
  },
  {
   "metadata": {
    "ExecuteTime": {
     "end_time": "2024-09-13T23:20:51.964019Z",
     "start_time": "2024-09-13T23:20:51.959657Z"
    }
   },
   "cell_type": "code",
   "source": "result.to_csv('files/titanic_predictions.csv', index=False)",
   "id": "f9be43181fc7c887",
   "execution_count": 278,
   "outputs": []
  },
  {
   "metadata": {
    "ExecuteTime": {
     "end_time": "2024-09-13T23:20:53.380205Z",
     "start_time": "2024-09-13T23:20:53.375753Z"
    }
   },
   "cell_type": "code",
   "source": "result",
   "id": "65df7f996696e58a",
   "execution_count": 279,
   "outputs": []
  },
  {
   "metadata": {},
   "cell_type": "code",
   "execution_count": null,
   "source": "",
   "id": "76d955a5b77ce310",
   "outputs": []
  }
 ],
 "metadata": {
  "kernelspec": {
   "display_name": "Python 3",
   "language": "python",
   "name": "python3"
  },
  "language_info": {
   "codemirror_mode": {
    "name": "ipython",
    "version": 2
   },
   "file_extension": ".py",
   "mimetype": "text/x-python",
   "name": "python",
   "nbconvert_exporter": "python",
   "pygments_lexer": "ipython2",
   "version": "2.7.6"
  }
 },
 "nbformat": 4,
 "nbformat_minor": 5
}
