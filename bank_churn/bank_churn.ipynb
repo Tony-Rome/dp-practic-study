{
 "cells": [
  {
   "metadata": {},
   "cell_type": "markdown",
   "source": "# Importar dato y eliminar columnas innecesarias",
   "id": "279c5f518b8c946c"
  },
  {
   "metadata": {
    "ExecuteTime": {
     "end_time": "2024-09-18T20:50:47.420577Z",
     "start_time": "2024-09-18T20:50:47.415067Z"
    }
   },
   "cell_type": "code",
   "source": "import pandas as pd",
   "id": "initial_id",
   "execution_count": 124,
   "outputs": []
  },
  {
   "metadata": {
    "ExecuteTime": {
     "end_time": "2024-09-18T20:50:47.654538Z",
     "start_time": "2024-09-18T20:50:47.506250Z"
    }
   },
   "cell_type": "code",
   "source": [
    "bank_churn_csv = pd.read_csv('files/train.csv')\n",
    "bank_churn_csv"
   ],
   "id": "f306b1131d43e8f4",
   "execution_count": 125,
   "outputs": []
  },
  {
   "metadata": {
    "ExecuteTime": {
     "end_time": "2024-09-18T20:50:47.658252Z",
     "start_time": "2024-09-18T20:50:47.655795Z"
    }
   },
   "cell_type": "code",
   "source": "bank_churn_csv.shape",
   "id": "3b72bfda2d9d811",
   "execution_count": 126,
   "outputs": []
  },
  {
   "metadata": {
    "ExecuteTime": {
     "end_time": "2024-09-18T20:50:47.662820Z",
     "start_time": "2024-09-18T20:50:47.659310Z"
    }
   },
   "cell_type": "code",
   "source": [
    "column: int = bank_churn_csv.columns[0]\n",
    "bank_churn_csv[column]"
   ],
   "id": "561bb81111462bcf",
   "execution_count": 127,
   "outputs": []
  },
  {
   "metadata": {
    "ExecuteTime": {
     "end_time": "2024-09-18T20:50:47.677101Z",
     "start_time": "2024-09-18T20:50:47.664439Z"
    }
   },
   "cell_type": "code",
   "source": [
    "bank_churn_df = bank_churn_csv.drop(columns=['id', 'CustomerId', 'Surname'])\n",
    "bank_churn_df.head()"
   ],
   "id": "685cfb8eb5d0dcf5",
   "execution_count": 128,
   "outputs": []
  },
  {
   "metadata": {},
   "cell_type": "markdown",
   "source": "# Transformar datos por columna",
   "id": "6a49e531c36df33a"
  },
  {
   "metadata": {
    "ExecuteTime": {
     "end_time": "2024-09-18T20:50:47.682898Z",
     "start_time": "2024-09-18T20:50:47.678386Z"
    }
   },
   "cell_type": "code",
   "source": [
    "# columna CreditScore se pasa a float\n",
    "bank_churn_df.CreditScore = bank_churn_df.CreditScore.astype(float)\n",
    "bank_churn_df.CreditScore"
   ],
   "id": "f9a6294689404ad6",
   "execution_count": 129,
   "outputs": []
  },
  {
   "metadata": {
    "ExecuteTime": {
     "end_time": "2024-09-18T20:50:47.693688Z",
     "start_time": "2024-09-18T20:50:47.683824Z"
    }
   },
   "cell_type": "code",
   "source": [
    "bank_churn_df.Geography, unique = bank_churn_df.Geography.factorize(use_na_sentinel=True)\n",
    "bank_churn_df.Geography = bank_churn_df.Geography.astype(float)\n",
    "bank_churn_df.Geography"
   ],
   "id": "79cd06d284411ccd",
   "execution_count": 130,
   "outputs": []
  },
  {
   "metadata": {
    "ExecuteTime": {
     "end_time": "2024-09-18T20:50:47.704179Z",
     "start_time": "2024-09-18T20:50:47.695218Z"
    }
   },
   "cell_type": "code",
   "source": [
    "bank_churn_df.Gender, unique = bank_churn_df.Gender.factorize(use_na_sentinel=True)\n",
    "bank_churn_df.Gender = bank_churn_df.Gender.astype(float)\n",
    "bank_churn_df.Gender"
   ],
   "id": "f3b58ed9c445a36e",
   "execution_count": 131,
   "outputs": []
  },
  {
   "metadata": {
    "ExecuteTime": {
     "end_time": "2024-09-18T20:50:47.709325Z",
     "start_time": "2024-09-18T20:50:47.705313Z"
    }
   },
   "cell_type": "code",
   "source": [
    "bank_churn_df.Age = bank_churn_df.Age.astype(float)\n",
    "bank_churn_df.Age"
   ],
   "id": "7d93fde2c7e720c4",
   "execution_count": 132,
   "outputs": []
  },
  {
   "metadata": {
    "ExecuteTime": {
     "end_time": "2024-09-18T20:50:47.726163Z",
     "start_time": "2024-09-18T20:50:47.720433Z"
    }
   },
   "cell_type": "code",
   "source": [
    "bank_churn_df.Tenure = bank_churn_df.Tenure.astype(float)\n",
    "bank_churn_df.Tenure"
   ],
   "id": "6d9f0c8ca52421ef",
   "execution_count": 133,
   "outputs": []
  },
  {
   "metadata": {
    "ExecuteTime": {
     "end_time": "2024-09-18T20:50:47.758656Z",
     "start_time": "2024-09-18T20:50:47.754677Z"
    }
   },
   "cell_type": "code",
   "source": [
    "bank_churn_df.Balance = bank_churn_df.Balance.astype(float)\n",
    "bank_churn_df.Balance"
   ],
   "id": "e706d43c87fa3d58",
   "execution_count": 134,
   "outputs": []
  },
  {
   "metadata": {
    "ExecuteTime": {
     "end_time": "2024-09-18T20:50:47.807904Z",
     "start_time": "2024-09-18T20:50:47.803717Z"
    }
   },
   "cell_type": "code",
   "source": [
    "bank_churn_df.NumOfProducts = bank_churn_df.NumOfProducts.astype(float)\n",
    "bank_churn_df.NumOfProducts"
   ],
   "id": "7bface6fa0a7ee6b",
   "execution_count": 135,
   "outputs": []
  },
  {
   "metadata": {
    "ExecuteTime": {
     "end_time": "2024-09-18T20:50:47.919902Z",
     "start_time": "2024-09-18T20:50:47.916850Z"
    }
   },
   "cell_type": "code",
   "source": "bank_churn_df.HasCrCard",
   "id": "8ab03662b802e68f",
   "execution_count": 136,
   "outputs": []
  },
  {
   "metadata": {
    "ExecuteTime": {
     "end_time": "2024-09-18T20:50:47.937963Z",
     "start_time": "2024-09-18T20:50:47.933971Z"
    }
   },
   "cell_type": "code",
   "source": "bank_churn_df.IsActiveMember.unique()",
   "id": "3cfebaffb8afb36b",
   "execution_count": 137,
   "outputs": []
  },
  {
   "metadata": {
    "ExecuteTime": {
     "end_time": "2024-09-18T20:50:47.951823Z",
     "start_time": "2024-09-18T20:50:47.948437Z"
    }
   },
   "cell_type": "code",
   "source": "bank_churn_df.EstimatedSalary",
   "id": "e1613042ce06ca94",
   "execution_count": 138,
   "outputs": []
  },
  {
   "metadata": {
    "ExecuteTime": {
     "end_time": "2024-09-18T20:50:47.969755Z",
     "start_time": "2024-09-18T20:50:47.967788Z"
    }
   },
   "cell_type": "code",
   "source": "#bank_churn_df.Exited = bank_churn_df.Exited.astype(float)",
   "id": "39b03219cad632ca",
   "execution_count": 139,
   "outputs": []
  },
  {
   "metadata": {
    "ExecuteTime": {
     "end_time": "2024-09-18T20:50:48.022393Z",
     "start_time": "2024-09-18T20:50:48.005533Z"
    }
   },
   "cell_type": "code",
   "source": [
    "from sklearn.model_selection import train_test_split\n",
    "\n",
    "x_df = bank_churn_df.drop(columns=['Exited'])\n",
    "y_df = bank_churn_df['Exited']\n",
    "\n",
    "X_train, X_test, y_train, y_test = train_test_split(x_df, y_df, test_size=0.2, random_state=42)"
   ],
   "id": "89e5be323d5e6adf",
   "execution_count": 140,
   "outputs": []
  },
  {
   "metadata": {
    "ExecuteTime": {
     "end_time": "2024-09-18T20:50:48.040699Z",
     "start_time": "2024-09-18T20:50:48.028758Z"
    }
   },
   "cell_type": "code",
   "source": [
    "# Escalar datos con MinMaxScaler para que estén dentro del rango 0-1 inclusive\n",
    "from sklearn.preprocessing import MinMaxScaler\n",
    "\n",
    "scaler = MinMaxScaler()\n",
    "X_train = scaler.fit_transform(X_train)\n",
    "X_test = scaler.transform(X_test)\n"
   ],
   "id": "1dd25492f8695417",
   "execution_count": 141,
   "outputs": []
  },
  {
   "metadata": {
    "ExecuteTime": {
     "end_time": "2024-09-18T20:50:48.057456Z",
     "start_time": "2024-09-18T20:50:48.043086Z"
    }
   },
   "cell_type": "code",
   "source": [
    "# Creacion de tensors\n",
    "import torch\n",
    "from torch.utils.data import TensorDataset, DataLoader\n",
    "\n",
    "X_train_tensor = torch.tensor(data=X_train, dtype=torch.float32)\n",
    "X_test_tensor = torch.tensor(data=X_test, dtype=torch.float32)\n",
    "y_train_tensor = torch.tensor(y_train.values, dtype=torch.float32).view(-1, 1)\n",
    "y_test_tensor = torch.tensor(y_test.values, dtype=torch.float32).view(-1, 1)\n",
    "\n",
    "train_dataset_tensor = TensorDataset(X_train_tensor, y_train_tensor)\n",
    "test_dataset_tensor = TensorDataset(X_test_tensor, y_test_tensor)\n",
    "\n",
    "batch_size = 64\n",
    "train_loader = DataLoader(dataset=train_dataset_tensor, batch_size=batch_size)\n",
    "test_loader = DataLoader(dataset=test_dataset_tensor, batch_size=batch_size)"
   ],
   "id": "5f0ce883f32a16c",
   "execution_count": 142,
   "outputs": []
  },
  {
   "metadata": {
    "ExecuteTime": {
     "end_time": "2024-09-18T21:14:21.011133Z",
     "start_time": "2024-09-18T21:14:21.003225Z"
    }
   },
   "cell_type": "code",
   "source": [
    "# Creación de modelo\n",
    "import torch.nn as nn\n",
    "class BankChurnModel(nn.Module):\n",
    "    def __init__(self, input_size):\n",
    "        super(BankChurnModel, self).__init__()\n",
    "        self.fc1 = nn.Linear(input_size, 64)\n",
    "        self.fc2 = nn.Linear(64, 64)\n",
    "        self.fc3 = nn.Linear(64, 1)\n",
    "        self.fc4 = nn.Linear(64, 64)\n",
    "        self.fc5 = nn.Linear(64, 1)\n",
    "        self.relu = nn.ReLU()\n",
    "        self.sigmoid = nn.Sigmoid()\n",
    "    \n",
    "    def forward(self, x):\n",
    "        x = self.relu(self.fc1(x))\n",
    "        x = self.relu(self.fc2(x))\n",
    "        x = self.relu(self.fc3(x))\n",
    "        x = self.relu(self.fc4(x))\n",
    "        x = self.sigmoid(self.fc5(x))\n",
    "        return x"
   ],
   "id": "9415ba969d8cc2f4",
   "execution_count": 151,
   "outputs": []
  },
  {
   "metadata": {
    "ExecuteTime": {
     "end_time": "2024-09-18T20:50:48.081454Z",
     "start_time": "2024-09-18T20:50:48.077343Z"
    }
   },
   "cell_type": "code",
   "source": [
    "from torch import optim\n",
    "\n",
    "input_size: int = X_train.shape[1]\n",
    "model = BankChurnModel(input_size)\n",
    "criterion = nn.BCELoss()\n",
    "optimizer = optim.Adam(model.parameters(), lr=0.001)"
   ],
   "id": "3270027451cf3ff3",
   "execution_count": 144,
   "outputs": []
  },
  {
   "metadata": {
    "ExecuteTime": {
     "end_time": "2024-09-18T20:50:48.106914Z",
     "start_time": "2024-09-18T20:50:48.102501Z"
    }
   },
   "cell_type": "code",
   "source": [
    "# Funcion de entrenamiento modelo\n",
    "\n",
    "def train(model, train_loader, optimizer, criterion, epochs):\n",
    "    \n",
    "    loss_list_train = []\n",
    "    iteration_list_train = []\n",
    "    \n",
    "    for epoch in range(epochs):\n",
    "        model.train()\n",
    "        epoch_loss = 0.0\n",
    "        \n",
    "        for index, (batch_x, batch_y) in enumerate(train_loader):\n",
    "            optimizer.zero_grad()\n",
    "            \n",
    "            outputs = model(batch_x)\n",
    "            loss = criterion(outputs, batch_y)\n",
    "            \n",
    "            loss.backward()\n",
    "            optimizer.step()\n",
    "            \n",
    "            epoch_loss += loss.item()\n",
    "            \n",
    "            if (epoch+1) % 10 == 0:\n",
    "                print('Epoch {}/{}, Loss: {:.4f}'.format(epoch + 1, epochs, loss.item()))\n",
    "        \n",
    "        loss_mean = epoch_loss / len(train_loader)\n",
    "        loss_list_train.append(loss_mean)\n",
    "        iteration_list_train.append(epoch + 1)\n",
    "    \n",
    "    return loss_list_train, iteration_list_train"
   ],
   "id": "fa61ad12fd8c7298",
   "execution_count": 145,
   "outputs": []
  },
  {
   "metadata": {
    "ExecuteTime": {
     "end_time": "2024-09-18T21:12:09.957204Z",
     "start_time": "2024-09-18T21:12:09.950193Z"
    }
   },
   "cell_type": "code",
   "source": [
    "# Funcion para probar el modelo\n",
    "\n",
    "def test(model, test_loader, criterion):\n",
    "    \n",
    "    model.eval()\n",
    "    epoch_loss = 0.0\n",
    "    loss_list_test = []\n",
    "    iteration_list_test = []\n",
    "    \n",
    "    with torch.no_grad():\n",
    "        for index, (batch_x, batch_y) in enumerate(test_loader):\n",
    "            outputs = model(batch_x)\n",
    "            loss = criterion(outputs, batch_y)\n",
    "            epoch_loss += loss.item()\n",
    "            \n",
    "            print('Index {}, Loss: {:.4f}'.format(index + 1, loss.item()))\n",
    "            \n",
    "            loss_list_test.append(loss.item())\n",
    "            iteration_list_test.append(index + 1)\n",
    "    \n",
    "    loss_test_mean =epoch_loss / len(test_loader)\n",
    "    return iteration_list_test, loss_list_test, loss_test_mean"
   ],
   "id": "8cb81946aee7ee3d",
   "execution_count": 148,
   "outputs": []
  },
  {
   "metadata": {
    "ExecuteTime": {
     "end_time": "2024-09-18T21:16:53.360101Z",
     "start_time": "2024-09-18T21:14:28.753364Z"
    }
   },
   "cell_type": "code",
   "source": [
    "epochs: int = 100\n",
    "loss_list_train, iteration_list_train = train(model, train_loader, optimizer, criterion, epochs)"
   ],
   "id": "fee0075bf0e9905e",
   "execution_count": 152,
   "outputs": []
  },
  {
   "metadata": {
    "ExecuteTime": {
     "end_time": "2024-09-18T21:17:06.230677Z",
     "start_time": "2024-09-18T21:17:06.129277Z"
    }
   },
   "cell_type": "code",
   "source": [
    "import matplotlib.pyplot as plt\n",
    "\n",
    "plt.plot(iteration_list_train, loss_list_train)\n",
    "plt.xlabel('Iterations')\n",
    "plt.ylabel('Loss')\n",
    "plt.title('TEST: Loss curve')"
   ],
   "id": "eb7d8ef5340ed3b8",
   "execution_count": 153,
   "outputs": []
  },
  {
   "metadata": {
    "ExecuteTime": {
     "end_time": "2024-09-18T21:17:21.903817Z",
     "start_time": "2024-09-18T21:17:21.750489Z"
    }
   },
   "cell_type": "code",
   "source": "iteration_list_test, loss_list_test, loss_test_mean = test(model, test_loader, criterion)",
   "id": "d1331f5108e8c501",
   "execution_count": 154,
   "outputs": []
  },
  {
   "metadata": {
    "ExecuteTime": {
     "end_time": "2024-09-18T21:17:24.734598Z",
     "start_time": "2024-09-18T21:17:24.643911Z"
    }
   },
   "cell_type": "code",
   "source": [
    "plt.plot(iteration_list_test, loss_list_test)\n",
    "plt.xlabel('Iterations')\n",
    "plt.ylabel('Loss')\n",
    "plt.title('TEST: Loss curve')\n",
    "plt.show()"
   ],
   "id": "402d12324c93874e",
   "execution_count": 155,
   "outputs": []
  },
  {
   "metadata": {
    "ExecuteTime": {
     "end_time": "2024-09-19T00:38:53.506070Z",
     "start_time": "2024-09-19T00:38:53.390316Z"
    }
   },
   "cell_type": "code",
   "source": [
    "bank_churn_csv = pd.read_csv('files/test.csv')\n",
    "bank_churn_csv"
   ],
   "id": "7f0ab082b62714c2",
   "execution_count": 156,
   "outputs": []
  },
  {
   "metadata": {
    "ExecuteTime": {
     "end_time": "2024-09-19T00:39:46.704293Z",
     "start_time": "2024-09-19T00:39:46.698897Z"
    }
   },
   "cell_type": "code",
   "source": "bank_churn_csv.shape",
   "id": "743e46a7a9cb9fd3",
   "execution_count": 157,
   "outputs": []
  },
  {
   "metadata": {
    "ExecuteTime": {
     "end_time": "2024-09-19T00:40:21.511310Z",
     "start_time": "2024-09-19T00:40:21.487547Z"
    }
   },
   "cell_type": "code",
   "source": [
    "bank_churn_df = bank_churn_csv.drop(columns=['id', 'CustomerId', 'Surname'])\n",
    "bank_churn_df"
   ],
   "id": "e0f9b467ec4019d0",
   "execution_count": 158,
   "outputs": []
  },
  {
   "metadata": {
    "ExecuteTime": {
     "end_time": "2024-09-19T00:40:58.007934Z",
     "start_time": "2024-09-19T00:40:58.002269Z"
    }
   },
   "cell_type": "code",
   "source": [
    "bank_churn_df.CreditScore = bank_churn_df.CreditScore.astype(float)\n",
    "bank_churn_df.CreditScore"
   ],
   "id": "1ce225b7b186695e",
   "execution_count": 159,
   "outputs": []
  },
  {
   "metadata": {
    "ExecuteTime": {
     "end_time": "2024-09-19T00:42:06.286240Z",
     "start_time": "2024-09-19T00:42:06.271069Z"
    }
   },
   "cell_type": "code",
   "source": [
    "bank_churn_df.Geography, unique = bank_churn_df.Geography.factorize(use_na_sentinel=True)\n",
    "bank_churn_df.Geography = bank_churn_df.Geography.astype(float)\n",
    "bank_churn_df.Geography"
   ],
   "id": "7567df3ce6a2cd28",
   "execution_count": 160,
   "outputs": []
  },
  {
   "metadata": {
    "ExecuteTime": {
     "end_time": "2024-09-19T00:42:22.138077Z",
     "start_time": "2024-09-19T00:42:22.120662Z"
    }
   },
   "cell_type": "code",
   "source": [
    "bank_churn_df.Gender, unique = bank_churn_df.Gender.factorize(use_na_sentinel=True)\n",
    "bank_churn_df.Gender = bank_churn_df.Gender.astype(float)\n",
    "bank_churn_df.Gender"
   ],
   "id": "faf7d326b751d879",
   "execution_count": 161,
   "outputs": []
  },
  {
   "metadata": {
    "ExecuteTime": {
     "end_time": "2024-09-19T00:42:32.151792Z",
     "start_time": "2024-09-19T00:42:32.147756Z"
    }
   },
   "cell_type": "code",
   "source": [
    "bank_churn_df.Age = bank_churn_df.Age.astype(float)\n",
    "bank_churn_df.Age"
   ],
   "id": "f2cc12bd8069d2f",
   "execution_count": 162,
   "outputs": []
  },
  {
   "metadata": {
    "ExecuteTime": {
     "end_time": "2024-09-19T00:42:41.248928Z",
     "start_time": "2024-09-19T00:42:41.244601Z"
    }
   },
   "cell_type": "code",
   "source": [
    "bank_churn_df.Tenure = bank_churn_df.Tenure.astype(float)\n",
    "bank_churn_df.Tenure"
   ],
   "id": "a0172938022cd855",
   "execution_count": 163,
   "outputs": []
  },
  {
   "metadata": {
    "ExecuteTime": {
     "end_time": "2024-09-19T00:42:51.435748Z",
     "start_time": "2024-09-19T00:42:51.431873Z"
    }
   },
   "cell_type": "code",
   "source": [
    "bank_churn_df.Balance = bank_churn_df.Balance.astype(float)\n",
    "bank_churn_df.Balance"
   ],
   "id": "ade6130cf1f63f98",
   "execution_count": 164,
   "outputs": []
  },
  {
   "metadata": {
    "ExecuteTime": {
     "end_time": "2024-09-19T00:43:03.245692Z",
     "start_time": "2024-09-19T00:43:03.235909Z"
    }
   },
   "cell_type": "code",
   "source": [
    "bank_churn_df.NumOfProducts = bank_churn_df.NumOfProducts.astype(float)\n",
    "bank_churn_df.NumOfProducts"
   ],
   "id": "61b0bb65323ea0bf",
   "execution_count": 165,
   "outputs": []
  },
  {
   "metadata": {
    "ExecuteTime": {
     "end_time": "2024-09-19T00:43:15.284683Z",
     "start_time": "2024-09-19T00:43:15.281360Z"
    }
   },
   "cell_type": "code",
   "source": "bank_churn_df.HasCrCard",
   "id": "3c863f4c5b07e080",
   "execution_count": 166,
   "outputs": []
  },
  {
   "metadata": {
    "ExecuteTime": {
     "end_time": "2024-09-19T00:43:28.279161Z",
     "start_time": "2024-09-19T00:43:28.273957Z"
    }
   },
   "cell_type": "code",
   "source": "bank_churn_df.IsActiveMember",
   "id": "4455dfa46992ee2a",
   "execution_count": 167,
   "outputs": []
  },
  {
   "metadata": {
    "ExecuteTime": {
     "end_time": "2024-09-19T00:43:46.977471Z",
     "start_time": "2024-09-19T00:43:46.974048Z"
    }
   },
   "cell_type": "code",
   "source": "bank_churn_df.EstimatedSalary",
   "id": "6b9b7ead4ac602b8",
   "execution_count": 168,
   "outputs": []
  },
  {
   "metadata": {
    "ExecuteTime": {
     "end_time": "2024-09-19T00:45:10.064006Z",
     "start_time": "2024-09-19T00:45:10.050899Z"
    }
   },
   "cell_type": "code",
   "source": [
    "test_df = scaler.fit_transform(bank_churn_df)\n",
    "test_df"
   ],
   "id": "1081b5cdacec8545",
   "execution_count": 170,
   "outputs": []
  },
  {
   "metadata": {
    "ExecuteTime": {
     "end_time": "2024-09-19T00:45:29.573986Z",
     "start_time": "2024-09-19T00:45:29.566291Z"
    }
   },
   "cell_type": "code",
   "source": "test_df_tensor = torch.tensor(test_df, dtype=torch.float32)",
   "id": "d0af3f5b47af8595",
   "execution_count": 171,
   "outputs": []
  },
  {
   "metadata": {
    "ExecuteTime": {
     "end_time": "2024-09-19T00:45:51.218037Z",
     "start_time": "2024-09-19T00:45:51.177714Z"
    }
   },
   "cell_type": "code",
   "source": [
    "model.eval()\n",
    "with torch.no_grad():\n",
    "    predictions = model(test_df_tensor)"
   ],
   "id": "43bdf76423ae734a",
   "execution_count": 172,
   "outputs": []
  },
  {
   "metadata": {
    "ExecuteTime": {
     "end_time": "2024-09-19T00:46:06.658210Z",
     "start_time": "2024-09-19T00:46:06.648322Z"
    }
   },
   "cell_type": "code",
   "source": [
    "predictions = (predictions > 0.5).int()\n",
    "predictions"
   ],
   "id": "1a7f68460f1f3794",
   "execution_count": 173,
   "outputs": []
  },
  {
   "metadata": {
    "ExecuteTime": {
     "end_time": "2024-09-19T00:47:18.576259Z",
     "start_time": "2024-09-19T00:47:18.558895Z"
    }
   },
   "cell_type": "code",
   "source": [
    "result = pd.DataFrame({\n",
    "    'id': bank_churn_csv.id,\n",
    "    'Exited': predictions.numpy().flatten()\n",
    "})"
   ],
   "id": "33ddb5983ebe63ef",
   "execution_count": 174,
   "outputs": []
  },
  {
   "metadata": {
    "ExecuteTime": {
     "end_time": "2024-09-19T00:47:39.284038Z",
     "start_time": "2024-09-19T00:47:39.231295Z"
    }
   },
   "cell_type": "code",
   "source": "result.to_csv('files/bank_churn_predictions.csv', index=False)",
   "id": "a42d5bffb6031278",
   "execution_count": 175,
   "outputs": []
  },
  {
   "metadata": {
    "ExecuteTime": {
     "end_time": "2024-09-19T00:47:41.973320Z",
     "start_time": "2024-09-19T00:47:41.966502Z"
    }
   },
   "cell_type": "code",
   "source": "result",
   "id": "39d464386b5c0cce",
   "execution_count": 176,
   "outputs": []
  },
  {
   "metadata": {},
   "cell_type": "code",
   "execution_count": null,
   "source": "",
   "id": "6fab1ce038757e8e",
   "outputs": []
  }
 ],
 "metadata": {
  "kernelspec": {
   "display_name": "Python 3",
   "language": "python",
   "name": "python3"
  },
  "language_info": {
   "codemirror_mode": {
    "name": "ipython",
    "version": 2
   },
   "file_extension": ".py",
   "mimetype": "text/x-python",
   "name": "python",
   "nbconvert_exporter": "python",
   "pygments_lexer": "ipython2",
   "version": "2.7.6"
  }
 },
 "nbformat": 4,
 "nbformat_minor": 5
}
